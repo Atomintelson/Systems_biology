{
 "cells": [
  {
   "cell_type": "code",
   "execution_count": 4,
   "id": "0ed33d72",
   "metadata": {},
   "outputs": [],
   "source": [
    "f = open(\"glucose_insulin.csv\")"
   ]
  },
  {
   "cell_type": "code",
   "execution_count": 6,
   "id": "1d1e7373",
   "metadata": {},
   "outputs": [],
   "source": [
    "from pandas import read_csv"
   ]
  },
  {
   "cell_type": "code",
   "execution_count": 10,
   "id": "d3d069ae",
   "metadata": {},
   "outputs": [],
   "source": [
    "data = read_csv(\"glucose_insulin.csv\", index_col = 'time')"
   ]
  },
  {
   "cell_type": "code",
   "execution_count": 30,
   "id": "4f25bbe4",
   "metadata": {},
   "outputs": [
    {
     "data": {
      "text/html": [
       "<div>\n",
       "<style scoped>\n",
       "    .dataframe tbody tr th:only-of-type {\n",
       "        vertical-align: middle;\n",
       "    }\n",
       "\n",
       "    .dataframe tbody tr th {\n",
       "        vertical-align: top;\n",
       "    }\n",
       "\n",
       "    .dataframe thead th {\n",
       "        text-align: right;\n",
       "    }\n",
       "</style>\n",
       "<table border=\"1\" class=\"dataframe\">\n",
       "  <thead>\n",
       "    <tr style=\"text-align: right;\">\n",
       "      <th></th>\n",
       "      <th>glucose</th>\n",
       "      <th>insulin</th>\n",
       "    </tr>\n",
       "    <tr>\n",
       "      <th>time</th>\n",
       "      <th></th>\n",
       "      <th></th>\n",
       "    </tr>\n",
       "  </thead>\n",
       "  <tbody>\n",
       "    <tr>\n",
       "      <th>0</th>\n",
       "      <td>92</td>\n",
       "      <td>11</td>\n",
       "    </tr>\n",
       "    <tr>\n",
       "      <th>2</th>\n",
       "      <td>350</td>\n",
       "      <td>26</td>\n",
       "    </tr>\n",
       "    <tr>\n",
       "      <th>4</th>\n",
       "      <td>287</td>\n",
       "      <td>130</td>\n",
       "    </tr>\n",
       "    <tr>\n",
       "      <th>6</th>\n",
       "      <td>251</td>\n",
       "      <td>85</td>\n",
       "    </tr>\n",
       "    <tr>\n",
       "      <th>8</th>\n",
       "      <td>240</td>\n",
       "      <td>51</td>\n",
       "    </tr>\n",
       "  </tbody>\n",
       "</table>\n",
       "</div>"
      ],
      "text/plain": [
       "      glucose  insulin\n",
       "time                  \n",
       "0          92       11\n",
       "2         350       26\n",
       "4         287      130\n",
       "6         251       85\n",
       "8         240       51"
      ]
     },
     "execution_count": 30,
     "metadata": {},
     "output_type": "execute_result"
    }
   ],
   "source": [
    "data.head()"
   ]
  },
  {
   "cell_type": "code",
   "execution_count": 68,
   "id": "6e335605",
   "metadata": {},
   "outputs": [],
   "source": [
    "from modsim import *"
   ]
  },
  {
   "cell_type": "code",
   "execution_count": 74,
   "id": "a07d4ab7",
   "metadata": {},
   "outputs": [],
   "source": [
    "I = interpolate(data.insulin, kind = 'quadratic')"
   ]
  },
  {
   "cell_type": "code",
   "execution_count": 75,
   "id": "2af77bf0",
   "metadata": {},
   "outputs": [
    {
     "data": {
      "text/plain": [
       "array(30.97782147)"
      ]
     },
     "execution_count": 75,
     "metadata": {},
     "output_type": "execute_result"
    }
   ],
   "source": [
    "I(18)"
   ]
  },
  {
   "cell_type": "code",
   "execution_count": 76,
   "id": "4ae81342",
   "metadata": {},
   "outputs": [],
   "source": [
    "t_0 = data.index[0]\n",
    "t_end = data.index[-1]\n",
    "t_array = linrange(t_0, t_end)"
   ]
  },
  {
   "cell_type": "code",
   "execution_count": 77,
   "id": "588644af",
   "metadata": {},
   "outputs": [],
   "source": [
    "I_array = I(t_array)\n",
    "I_series = make_series(t_array, I_array)"
   ]
  },
  {
   "cell_type": "code",
   "execution_count": 78,
   "id": "9058fd0a",
   "metadata": {},
   "outputs": [
    {
     "data": {
      "image/png": "[encoded data removed]",
      "text/plain": [
       "<Figure size 432x288 with 1 Axes>"
      ]
     },
     "metadata": {
      "needs_background": "light"
     },
     "output_type": "display_data"
    }
   ],
   "source": [
    "# Here's the plotting code again.\n",
    "\n",
    "data.insulin.plot(style='o', color='C2', label='insulin data')\n",
    "I_series.plot(color='C2', label='interpolation')\n",
    "\n",
    "decorate(xlabel='Time (min)',\n",
    "         ylabel='Concentration ($\\mu$U/mL)')"
   ]
  },
  {
   "cell_type": "code",
   "execution_count": 79,
   "id": "5d2d933d",
   "metadata": {},
   "outputs": [],
   "source": [
    "G = interpolate(data.glucose, kind = 'quadratic')\n",
    "G_array = G(t_array)\n",
    "G_series = make_series(t_array, G_array)"
   ]
  },
  {
   "cell_type": "code",
   "execution_count": 80,
   "id": "d7c3f5c7",
   "metadata": {},
   "outputs": [
    {
     "data": {
      "image/png": "[encoded data removed]",
      "text/plain": [
       "<Figure size 432x288 with 1 Axes>"
      ]
     },
     "metadata": {
      "needs_background": "light"
     },
     "output_type": "display_data"
    }
   ],
   "source": [
    "# Here's the plotting code again.\n",
    "\n",
    "data.glucose.plot(style='o', color='C2', label='glucose data')\n",
    "G_series.plot(color='C2', label='interpolation')\n",
    "\n",
    "decorate(xlabel='Time (min)',\n",
    "         ylabel='Concentration (mg/dL)')"
   ]
  },
  {
   "cell_type": "code",
   "execution_count": null,
   "id": "2daf7fc4",
   "metadata": {},
   "outputs": [],
   "source": []
  }
 ],
 "metadata": {
  "kernelspec": {
   "display_name": "Python 3",
   "language": "python",
   "name": "python3"
  },
  "language_info": {
   "codemirror_mode": {
    "name": "ipython",
    "version": 3
   },
   "file_extension": ".py",
   "mimetype": "text/x-python",
   "name": "python",
   "nbconvert_exporter": "python",
   "pygments_lexer": "ipython3",
   "version": "3.8.5"
  }
 },
 "nbformat": 4,
 "nbformat_minor": 5
}
