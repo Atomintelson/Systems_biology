{
 "cells": [
  {
   "cell_type": "code",
   "execution_count": 4,
   "id": "9a9e4276",
   "metadata": {
    "scrolled": true
   },
   "outputs": [],
   "source": [
    "from modsim import *"
   ]
  },
  {
   "cell_type": "code",
   "execution_count": 5,
   "id": "82dab303",
   "metadata": {},
   "outputs": [],
   "source": [
    "from pandas import read_csv\n",
    "\n",
    "data = read_csv('glucose_insulin.csv', index_col='time');"
   ]
  },
  {
   "cell_type": "code",
   "execution_count": 15,
   "id": "58aec124",
   "metadata": {},
   "outputs": [
    {
     "data": {
      "text/html": [
       "<div>\n",
       "<style scoped>\n",
       "    .dataframe tbody tr th:only-of-type {\n",
       "        vertical-align: middle;\n",
       "    }\n",
       "\n",
       "    .dataframe tbody tr th {\n",
       "        vertical-align: top;\n",
       "    }\n",
       "\n",
       "    .dataframe thead th {\n",
       "        text-align: right;\n",
       "    }\n",
       "</style>\n",
       "<table border=\"1\" class=\"dataframe\">\n",
       "  <thead>\n",
       "    <tr style=\"text-align: right;\">\n",
       "      <th></th>\n",
       "      <th>glucose</th>\n",
       "      <th>insulin</th>\n",
       "    </tr>\n",
       "    <tr>\n",
       "      <th>time</th>\n",
       "      <th></th>\n",
       "      <th></th>\n",
       "    </tr>\n",
       "  </thead>\n",
       "  <tbody>\n",
       "    <tr>\n",
       "      <th>0</th>\n",
       "      <td>92</td>\n",
       "      <td>11</td>\n",
       "    </tr>\n",
       "    <tr>\n",
       "      <th>2</th>\n",
       "      <td>350</td>\n",
       "      <td>26</td>\n",
       "    </tr>\n",
       "    <tr>\n",
       "      <th>4</th>\n",
       "      <td>287</td>\n",
       "      <td>130</td>\n",
       "    </tr>\n",
       "    <tr>\n",
       "      <th>6</th>\n",
       "      <td>251</td>\n",
       "      <td>85</td>\n",
       "    </tr>\n",
       "    <tr>\n",
       "      <th>8</th>\n",
       "      <td>240</td>\n",
       "      <td>51</td>\n",
       "    </tr>\n",
       "  </tbody>\n",
       "</table>\n",
       "</div>"
      ],
      "text/plain": [
       "      glucose  insulin\n",
       "time                  \n",
       "0          92       11\n",
       "2         350       26\n",
       "4         287      130\n",
       "6         251       85\n",
       "8         240       51"
      ]
     },
     "execution_count": 15,
     "metadata": {},
     "output_type": "execute_result"
    }
   ],
   "source": [
    "data.head()"
   ]
  },
  {
   "cell_type": "code",
   "execution_count": 7,
   "id": "3480fee8",
   "metadata": {},
   "outputs": [],
   "source": [
    "G0 = 270\n",
    "k1 = 0.02\n",
    "k2 = 0.02\n",
    "k3 = 1.5e-05"
   ]
  },
  {
   "cell_type": "code",
   "execution_count": 8,
   "id": "a7ebb2e8",
   "metadata": {},
   "outputs": [],
   "source": [
    "params = G0, k1, k2, k3"
   ]
  },
  {
   "cell_type": "code",
   "execution_count": 37,
   "id": "7591d7ca",
   "metadata": {},
   "outputs": [],
   "source": [
    "def make_system1(params, data):\n",
    "    G0, k1, k2, k3 = params\n",
    "    \n",
    "    t_0 = data.index[0]\n",
    "    t_end = data.index[-1]\n",
    "    \n",
    "    Gb = data.glucose[t_0] ## Gb = 92\n",
    "    Ib = data.insulin[t_0] ## Ib = 11\n",
    "    I = interpolate(data.insulin)\n",
    "    \n",
    "    init = State(G=G0, X=0) ## Functions in the modsim.py library include State, which we are using now.       \n",
    "                            ## State creates a State object,which is a collection of state variables.\n",
    "                            ## State objects contain state variables, which represent the state of the\n",
    "                            ## system, which get updated in the course of a simulation.\n",
    "\n",
    "\n",
    "    return System(init=init, params=params,\n",
    "                  Gb=Gb, Ib=Ib, I=I,\n",
    "                  t_0=t_0, t_end=t_end, dt=1)\n",
    "                ## System objects contain system variables, which represent parameters\n",
    "                ## of the system, which usually don’t get updated over the course of a\n",
    "                ## asimulation."
   ]
  },
  {
   "cell_type": "code",
   "execution_count": 38,
   "id": "871aeb62",
   "metadata": {},
   "outputs": [],
   "source": [
    "def make_system2(params, data):\n",
    "    G0, k1, k2, k3 = params\n",
    "    \n",
    "    t_0 = data.index[0]\n",
    "    t_end = data.index[-1]\n",
    "    \n",
    "    Gb = data.glucose[t_0] ## Gb = 92\n",
    "    Ib = data.insulin[t_0] ## Ib = 11\n",
    "    I = interpolate(data.insulin)\n",
    "    \n",
    "    init = State(G=G0, X=0) ## Functions in the modsim.py library include State, which we are using now.       \n",
    "                            ## State creates a State object,which is a collection of state variables.\n",
    "                            ## State objects contain state variables, which represent the state of the\n",
    "                            ## system, which get updated in the course of a simulation.\n",
    "\n",
    "\n",
    "    return System(init=init, params=params,\n",
    "                  Gb=Gb, Ib=Ib, I=I,\n",
    "                  t_0=t_0, t_end=t_end, dt=2)\n",
    "                ## System objects contain system variables, which represent parameters\n",
    "                ## of the system, which usually don’t get updated over the course of a\n",
    "                ## asimulation."
   ]
  },
  {
   "cell_type": "code",
   "execution_count": 39,
   "id": "64a63528",
   "metadata": {},
   "outputs": [],
   "source": [
    "system2 = make_system1(params,data)"
   ]
  },
  {
   "cell_type": "code",
   "execution_count": 40,
   "id": "78dba111",
   "metadata": {},
   "outputs": [],
   "source": [
    "system = make_system2(params, data)"
   ]
  },
  {
   "cell_type": "code",
   "execution_count": 41,
   "id": "6713b7a0",
   "metadata": {},
   "outputs": [],
   "source": [
    "def update_func(t, state, system):\n",
    "    G, X = state\n",
    "    G0, k1, k2, k3 = system.params \n",
    "    I, Ib, Gb = system.I, system.Ib, system.Gb\n",
    "    dt = system.dt\n",
    "        \n",
    "    dGdt = -k1 * (G - Gb) - X*G\n",
    "    dXdt = k3 * (I(t) - Ib) - k2 * X\n",
    "    \n",
    "    G += dGdt * dt\n",
    "    X += dXdt * dt\n",
    "\n",
    "    return State(G=G, X=X)"
   ]
  },
  {
   "cell_type": "code",
   "execution_count": 42,
   "id": "81cdcd26",
   "metadata": {},
   "outputs": [
    {
     "data": {
      "text/plain": [
       "G    262.88\n",
       "X      0.00\n",
       "Name: state, dtype: float64"
      ]
     },
     "execution_count": 42,
     "metadata": {},
     "output_type": "execute_result"
    }
   ],
   "source": [
    "update_func(system.t_0, system.init, system)"
   ]
  },
  {
   "cell_type": "code",
   "execution_count": 43,
   "id": "fbf3a59a",
   "metadata": {},
   "outputs": [
    {
     "data": {
      "text/plain": [
       "G    266.44\n",
       "X      0.00\n",
       "Name: state, dtype: float64"
      ]
     },
     "execution_count": 43,
     "metadata": {},
     "output_type": "execute_result"
    }
   ],
   "source": [
    "update_func(system2.t_0, system2.init, system2)"
   ]
  },
  {
   "cell_type": "code",
   "execution_count": 44,
   "id": "38cb8c6f",
   "metadata": {},
   "outputs": [],
   "source": [
    "def run_simulation(system, update_func):    \n",
    "    t_array = linrange(system.t_0, system.t_end, system.dt)\n",
    "    n = len(t_array)\n",
    "    \n",
    "    frame = TimeFrame(index=t_array, \n",
    "                      columns=system.init.index)\n",
    "    frame.iloc[0] = system.init\n",
    "    \n",
    "    for i in range(n-1):\n",
    "        t = t_array[i]\n",
    "        state = frame.iloc[i]\n",
    "        frame.iloc[i+1] = update_func(t, state, system)\n",
    "    \n",
    "    return frame"
   ]
  },
  {
   "cell_type": "code",
   "execution_count": 45,
   "id": "ccca16af",
   "metadata": {},
   "outputs": [],
   "source": [
    "results = run_simulation(system, update_func)"
   ]
  },
  {
   "cell_type": "code",
   "execution_count": 52,
   "id": "47c0162d",
   "metadata": {},
   "outputs": [],
   "source": [
    "resultsn = run_simulation(system2, update_func)"
   ]
  },
  {
   "cell_type": "code",
   "execution_count": 53,
   "id": "2eb5de35",
   "metadata": {},
   "outputs": [
    {
     "data": {
      "text/html": [
       "<div>\n",
       "<style scoped>\n",
       "    .dataframe tbody tr th:only-of-type {\n",
       "        vertical-align: middle;\n",
       "    }\n",
       "\n",
       "    .dataframe tbody tr th {\n",
       "        vertical-align: top;\n",
       "    }\n",
       "\n",
       "    .dataframe thead th {\n",
       "        text-align: right;\n",
       "    }\n",
       "</style>\n",
       "<table border=\"1\" class=\"dataframe\">\n",
       "  <thead>\n",
       "    <tr style=\"text-align: right;\">\n",
       "      <th></th>\n",
       "      <th>G</th>\n",
       "      <th>X</th>\n",
       "    </tr>\n",
       "  </thead>\n",
       "  <tbody>\n",
       "    <tr>\n",
       "      <th>0.0</th>\n",
       "      <td>270.000000</td>\n",
       "      <td>0.000000</td>\n",
       "    </tr>\n",
       "    <tr>\n",
       "      <th>2.0</th>\n",
       "      <td>262.880000</td>\n",
       "      <td>0.000000</td>\n",
       "    </tr>\n",
       "    <tr>\n",
       "      <th>4.0</th>\n",
       "      <td>256.044800</td>\n",
       "      <td>0.000450</td>\n",
       "    </tr>\n",
       "    <tr>\n",
       "      <th>6.0</th>\n",
       "      <td>249.252568</td>\n",
       "      <td>0.004002</td>\n",
       "    </tr>\n",
       "    <tr>\n",
       "      <th>8.0</th>\n",
       "      <td>240.967447</td>\n",
       "      <td>0.006062</td>\n",
       "    </tr>\n",
       "  </tbody>\n",
       "</table>\n",
       "</div>"
      ],
      "text/plain": [
       "              G         X\n",
       "0.0  270.000000  0.000000\n",
       "2.0  262.880000  0.000000\n",
       "4.0  256.044800  0.000450\n",
       "6.0  249.252568  0.004002\n",
       "8.0  240.967447  0.006062"
      ]
     },
     "execution_count": 53,
     "metadata": {},
     "output_type": "execute_result"
    }
   ],
   "source": [
    "results.head()"
   ]
  },
  {
   "cell_type": "code",
   "execution_count": 54,
   "id": "4e53c637",
   "metadata": {},
   "outputs": [
    {
     "data": {
      "text/html": [
       "<div>\n",
       "<style scoped>\n",
       "    .dataframe tbody tr th:only-of-type {\n",
       "        vertical-align: middle;\n",
       "    }\n",
       "\n",
       "    .dataframe tbody tr th {\n",
       "        vertical-align: top;\n",
       "    }\n",
       "\n",
       "    .dataframe thead th {\n",
       "        text-align: right;\n",
       "    }\n",
       "</style>\n",
       "<table border=\"1\" class=\"dataframe\">\n",
       "  <thead>\n",
       "    <tr style=\"text-align: right;\">\n",
       "      <th></th>\n",
       "      <th>G</th>\n",
       "      <th>X</th>\n",
       "    </tr>\n",
       "  </thead>\n",
       "  <tbody>\n",
       "    <tr>\n",
       "      <th>0.0</th>\n",
       "      <td>270.000000</td>\n",
       "      <td>0.000000</td>\n",
       "    </tr>\n",
       "    <tr>\n",
       "      <th>1.0</th>\n",
       "      <td>266.440000</td>\n",
       "      <td>0.000000</td>\n",
       "    </tr>\n",
       "    <tr>\n",
       "      <th>2.0</th>\n",
       "      <td>262.951200</td>\n",
       "      <td>0.000112</td>\n",
       "    </tr>\n",
       "    <tr>\n",
       "      <th>3.0</th>\n",
       "      <td>259.502594</td>\n",
       "      <td>0.000335</td>\n",
       "    </tr>\n",
       "    <tr>\n",
       "      <th>4.0</th>\n",
       "      <td>256.065544</td>\n",
       "      <td>0.001334</td>\n",
       "    </tr>\n",
       "  </tbody>\n",
       "</table>\n",
       "</div>"
      ],
      "text/plain": [
       "              G         X\n",
       "0.0  270.000000  0.000000\n",
       "1.0  266.440000  0.000000\n",
       "2.0  262.951200  0.000112\n",
       "3.0  259.502594  0.000335\n",
       "4.0  256.065544  0.001334"
      ]
     },
     "execution_count": 54,
     "metadata": {},
     "output_type": "execute_result"
    }
   ],
   "source": [
    "resultsn.head()"
   ]
  },
  {
   "cell_type": "code",
   "execution_count": 55,
   "id": "2601384c",
   "metadata": {},
   "outputs": [
    {
     "data": {
      "image/png": "[encoded data removed]",
      "text/plain": [
       "<Figure size 432x288 with 1 Axes>"
      ]
     },
     "metadata": {
      "needs_background": "light"
     },
     "output_type": "display_data"
    }
   ],
   "source": [
    "data.glucose.plot(style='o', alpha=0.5, label='glucose data')\n",
    "results.G.plot(style='-', color='C0', label='simulation')\n",
    "\n",
    "decorate(xlabel='Time (min)',\n",
    "         ylabel='Concentration (mg/dL)')"
   ]
  },
  {
   "cell_type": "code",
   "execution_count": 56,
   "id": "5a0c8f56",
   "metadata": {},
   "outputs": [
    {
     "data": {
      "image/png": "[encoded data removed]",
      "text/plain": [
       "<Figure size 432x288 with 1 Axes>"
      ]
     },
     "metadata": {
      "needs_background": "light"
     },
     "output_type": "display_data"
    }
   ],
   "source": [
    "data.glucose.plot(style='o', alpha=0.5, label='glucose data')\n",
    "resultsn.G.plot(style='-', color='C0', label='simulation')\n",
    "\n",
    "decorate(xlabel='Time (min)',\n",
    "         ylabel='Concentration (mg/dL)')"
   ]
  },
  {
   "cell_type": "code",
   "execution_count": 57,
   "id": "7e38803b",
   "metadata": {},
   "outputs": [
    {
     "data": {
      "image/png": "[encoded data removed]",
      "text/plain": [
       "<Figure size 432x288 with 1 Axes>"
      ]
     },
     "metadata": {
      "needs_background": "light"
     },
     "output_type": "display_data"
    }
   ],
   "source": [
    "results.X.plot(color='C1', label='remote insulin')\n",
    "                    ## Remember that X represents the concentration of insulin in the \"remote compartment\", \n",
    "                    ## which is believed to be tissue fluid, so we can't compare it to the measured \n",
    "                    ## concentration of insulin in the blood.\n",
    "decorate(xlabel='Time (min)', \n",
    "         ylabel='Concentration (arbitrary units)')"
   ]
  },
  {
   "cell_type": "code",
   "execution_count": 58,
   "id": "7b139745",
   "metadata": {},
   "outputs": [
    {
     "data": {
      "image/png": "[encoded data removed]",
      "text/plain": [
       "<Figure size 432x288 with 1 Axes>"
      ]
     },
     "metadata": {
      "needs_background": "light"
     },
     "output_type": "display_data"
    }
   ],
   "source": [
    "resultsn.X.plot(color='C1', label='remote insulin')\n",
    "                    ## Remember that X represents the concentration of insulin in the \"remote compartment\", \n",
    "                    ## which is believed to be tissue fluid, so we can't compare it to the measured \n",
    "                    ## concentration of insulin in the blood.\n",
    "decorate(xlabel='Time (min)', \n",
    "         ylabel='Concentration (arbitrary units)')"
   ]
  },
  {
   "cell_type": "code",
   "execution_count": 59,
   "id": "316bd286",
   "metadata": {},
   "outputs": [],
   "source": [
    "def slope_func(t, state, system):\n",
    "    G, X = state\n",
    "    G0, k1, k2, k3 = system.params \n",
    "    I, Ib, Gb = system.I, system.Ib, system.Gb\n",
    "        \n",
    "    dGdt = -k1 * (G - Gb) - X*G\n",
    "    dXdt = k3 * (I(t) - Ib) - k2 * X\n",
    "    \n",
    "    return dGdt, dXdt"
   ]
  },
  {
   "cell_type": "code",
   "execution_count": 60,
   "id": "1a914cba",
   "metadata": {},
   "outputs": [],
   "source": [
    "results2, details = run_solve_ivp(system, slope_func,\n",
    "                                  t_eval=results.index)"
   ]
  },
  {
   "cell_type": "code",
   "execution_count": 61,
   "id": "2b57eb70",
   "metadata": {},
   "outputs": [
    {
     "data": {
      "text/plain": [
       "True"
      ]
     },
     "execution_count": 61,
     "metadata": {},
     "output_type": "execute_result"
    }
   ],
   "source": [
    "details.success"
   ]
  },
  {
   "cell_type": "code",
   "execution_count": 62,
   "id": "0ad1ebf0",
   "metadata": {},
   "outputs": [
    {
     "data": {
      "text/plain": [
       "'The solver successfully reached the end of the integration interval.'"
      ]
     },
     "execution_count": 62,
     "metadata": {},
     "output_type": "execute_result"
    }
   ],
   "source": [
    "details.message"
   ]
  },
  {
   "cell_type": "code",
   "execution_count": 63,
   "id": "87836374",
   "metadata": {},
   "outputs": [
    {
     "data": {
      "text/html": [
       "<div>\n",
       "<style scoped>\n",
       "    .dataframe tbody tr th:only-of-type {\n",
       "        vertical-align: middle;\n",
       "    }\n",
       "\n",
       "    .dataframe tbody tr th {\n",
       "        vertical-align: top;\n",
       "    }\n",
       "\n",
       "    .dataframe thead th {\n",
       "        text-align: right;\n",
       "    }\n",
       "</style>\n",
       "<table border=\"1\" class=\"dataframe\">\n",
       "  <thead>\n",
       "    <tr style=\"text-align: right;\">\n",
       "      <th></th>\n",
       "      <th>G</th>\n",
       "      <th>X</th>\n",
       "    </tr>\n",
       "  </thead>\n",
       "  <tbody>\n",
       "    <tr>\n",
       "      <th>0.0</th>\n",
       "      <td>270.000000</td>\n",
       "      <td>0.000000</td>\n",
       "    </tr>\n",
       "    <tr>\n",
       "      <th>2.0</th>\n",
       "      <td>262.980942</td>\n",
       "      <td>0.000240</td>\n",
       "    </tr>\n",
       "    <tr>\n",
       "      <th>4.0</th>\n",
       "      <td>255.683455</td>\n",
       "      <td>0.002525</td>\n",
       "    </tr>\n",
       "    <tr>\n",
       "      <th>6.0</th>\n",
       "      <td>247.315442</td>\n",
       "      <td>0.005174</td>\n",
       "    </tr>\n",
       "    <tr>\n",
       "      <th>8.0</th>\n",
       "      <td>238.271851</td>\n",
       "      <td>0.006602</td>\n",
       "    </tr>\n",
       "  </tbody>\n",
       "</table>\n",
       "</div>"
      ],
      "text/plain": [
       "              G         X\n",
       "0.0  270.000000  0.000000\n",
       "2.0  262.980942  0.000240\n",
       "4.0  255.683455  0.002525\n",
       "6.0  247.315442  0.005174\n",
       "8.0  238.271851  0.006602"
      ]
     },
     "execution_count": 63,
     "metadata": {},
     "output_type": "execute_result"
    }
   ],
   "source": [
    "results2.head()"
   ]
  },
  {
   "cell_type": "code",
   "execution_count": 64,
   "id": "b4f0adf9",
   "metadata": {},
   "outputs": [
    {
     "data": {
      "image/png": "[encoded data removed]",
      "text/plain": [
       "<Figure size 432x288 with 1 Axes>"
      ]
     },
     "metadata": {
      "needs_background": "light"
     },
     "output_type": "display_data"
    }
   ],
   "source": [
    "results.G.plot(style='--', label='simulation dt=2')\n",
    "resultsn.G.plot(style='-', label='simulation dt=1')\n",
    "\n",
    "decorate(xlabel='Time (min)',\n",
    "         ylabel='Concentration (mg/dL)')"
   ]
  },
  {
   "cell_type": "code",
   "execution_count": 65,
   "id": "c1f28af6",
   "metadata": {},
   "outputs": [],
   "source": [
    "diff = results.G - resultsn.G\n",
    "percent_diff = diff / resultsn.G * 100"
   ]
  },
  {
   "cell_type": "code",
   "execution_count": 66,
   "id": "23084e80",
   "metadata": {},
   "outputs": [
    {
     "data": {
      "text/plain": [
       "count    92.000000\n",
       "mean      0.527015\n",
       "std       0.291531\n",
       "min       0.000000\n",
       "25%       0.292193\n",
       "50%       0.505702\n",
       "75%       0.801698\n",
       "max       0.970760\n",
       "Name: G, dtype: float64"
      ]
     },
     "execution_count": 66,
     "metadata": {},
     "output_type": "execute_result"
    }
   ],
   "source": [
    "percent_diff.abs().describe()"
   ]
  },
  {
   "cell_type": "code",
   "execution_count": null,
   "id": "60d1c7db",
   "metadata": {},
   "outputs": [],
   "source": []
  },
  {
   "cell_type": "code",
   "execution_count": 67,
   "id": "9e7899be",
   "metadata": {},
   "outputs": [
    {
     "data": {
      "image/png": "[encoded data removed]",
      "text/plain": [
       "<Figure size 432x288 with 1 Axes>"
      ]
     },
     "metadata": {
      "needs_background": "light"
     },
     "output_type": "display_data"
    }
   ],
   "source": [
    "results.X.plot(style='--', label='simulation dt=2')\n",
    "resultsn.X.plot(style='-', label='simulation dt=1')\n",
    "\n",
    "decorate(xlabel='Time (min)', \n",
    "         ylabel='Concentration (arbitrary units)')"
   ]
  },
  {
   "cell_type": "markdown",
   "id": "a82a7fa5",
   "metadata": {},
   "source": [
    "If we use run_simulation with smaller time steps, the results are more accurate, but they take longer to compute. For some problems, we can find a value of dt that produces accurate results in a reasonable time. However, if dt is too small, the results can be inaccurate again. So it can be tricky to get it right.\n",
    "\n",
    "The advantage of run_solve_ivp is that it chooses the step size automatically in order to balance accuracy and efficiency. You can use keyword arguments to adjust this balance, but most of the time the results are accurate enough, and the computation is fast enough, without any intervention."
   ]
  },
  {
   "cell_type": "code",
   "execution_count": 70,
   "id": "94432383",
   "metadata": {},
   "outputs": [
    {
     "data": {
      "text/plain": [
       "count     91.000000\n",
       "mean       3.408303\n",
       "std       12.574497\n",
       "min        0.058578\n",
       "25%        0.670081\n",
       "50%        1.036680\n",
       "75%        1.186027\n",
       "max      100.000000\n",
       "Name: X, dtype: float64"
      ]
     },
     "execution_count": 70,
     "metadata": {},
     "output_type": "execute_result"
    }
   ],
   "source": [
    "diff = results.X - resultsn.X\n",
    "percent_diff = diff / resultsn.X * 100\n",
    "percent_diff.abs().describe()"
   ]
  },
  {
   "cell_type": "markdown",
   "id": "708506a1",
   "metadata": {},
   "source": [
    "## Summary\n",
    "\n",
    "In this chapter, we implemented the glucose minimal model two ways, using `run_simulation` and `run_solve_ivp`, and compared the results.\n",
    "We found that in this example, `run_simulation`, which uses Euler's method, is probably good enough.\n",
    "But soon we will see examples where it is not.\n",
    "\n",
    "So far, we have assumed that the parameters of the system are known, but in practice that's not true.\n",
    "As one of the case studies in the next chapter, you'll have a chance to see where those parameters came from."
   ]
  },
  {
   "cell_type": "code",
   "execution_count": null,
   "id": "d3a3d2c6",
   "metadata": {},
   "outputs": [],
   "source": []
  }
 ],
 "metadata": {
  "kernelspec": {
   "display_name": "Python 3",
   "language": "python",
   "name": "python3"
  },
  "language_info": {
   "codemirror_mode": {
    "name": "ipython",
    "version": 3
   },
   "file_extension": ".py",
   "mimetype": "text/x-python",
   "name": "python",
   "nbconvert_exporter": "python",
   "pygments_lexer": "ipython3",
   "version": "3.8.5"
  }
 },
 "nbformat": 4,
 "nbformat_minor": 5
}
